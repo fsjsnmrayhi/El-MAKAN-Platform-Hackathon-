{
  "nbformat": 4,
  "nbformat_minor": 0,
  "metadata": {
    "colab": {
      "provenance": [],
      "toc_visible": true
    },
    "kernelspec": {
      "name": "python3",
      "display_name": "Python 3"
    },
    "language_info": {
      "name": "python"
    }
  },
  "cells": [
    {
      "cell_type": "code",
      "execution_count": null,
      "metadata": {
        "id": "2dlne6oM-G3I"
      },
      "outputs": [],
      "source": [
        "import numpy as np\n",
        "import pandas as pd\n",
        "import matplotlib.pyplot as plt\n",
        "import seaborn as sns\n",
        "from sklearn.cluster import KMeans"
      ]
    },
    {
      "cell_type": "code",
      "source": [
        "# loading the data from csv file to a Pandas DataFrame\n",
        "customer_data = pd.read_csv('/content/MOCK_DATA (3).csv')"
      ],
      "metadata": {
        "id": "aQTzG6ke-X8O"
      },
      "execution_count": null,
      "outputs": []
    },
    {
      "cell_type": "code",
      "source": [
        "# first 5 rows in the dataframe\n",
        "customer_data.head()"
      ],
      "metadata": {
        "colab": {
          "base_uri": "https://localhost:8080/",
          "height": 310
        },
        "id": "-B_M7rYu_uUl",
        "outputId": "1b48f0a9-d970-458d-de66-9d414acf8a78"
      },
      "execution_count": null,
      "outputs": [
        {
          "output_type": "execute_result",
          "data": {
            "text/plain": [
              "   id             Name                   email  gender  age  Phone number  \\\n",
              "0   1     Glen Camelli   gcamelli0@archive.org    male   17  150-115-0317   \n",
              "1   2  Saunder Thirtle  sthirtle1@hatena.ne.jp  female   26  288-483-2108   \n",
              "2   3    Therine Veque       tveque2@google.es    male   48  812-765-6319   \n",
              "3   4     Kellen Bisco        kbisco3@webs.com    male   30  749-995-3064   \n",
              "4   5  Johny Arunowicz  jarunowicz4@scribd.com  female   30  814-801-4578   \n",
              "\n",
              "         Visitor Type Reserved Activities  Reservation Duration  \\\n",
              "0         New Visitor     Coworking Space                     5   \n",
              "1         New Visitor     Coworking Space                     7   \n",
              "2  Occasional Visitor           XR Studio                     4   \n",
              "3  Occasional Visitor       Podcast Space                     1   \n",
              "4         New Visitor          Design Lab                     6   \n",
              "\n",
              "  Reservation Status  Feedback and Evaluation Reservation Date  \n",
              "0          Confirmed                        6         4/4/2023  \n",
              "1            Pending                        7        5/17/2023  \n",
              "2           Canceled                        2         1/5/2023  \n",
              "3           Canceled                       10        7/16/2023  \n",
              "4            Pending                        2        6/26/2023  "
            ],
            "text/html": [
              "\n",
              "  <div id=\"df-803f3cdf-f654-486b-927e-df889eac0517\" class=\"colab-df-container\">\n",
              "    <div>\n",
              "<style scoped>\n",
              "    .dataframe tbody tr th:only-of-type {\n",
              "        vertical-align: middle;\n",
              "    }\n",
              "\n",
              "    .dataframe tbody tr th {\n",
              "        vertical-align: top;\n",
              "    }\n",
              "\n",
              "    .dataframe thead th {\n",
              "        text-align: right;\n",
              "    }\n",
              "</style>\n",
              "<table border=\"1\" class=\"dataframe\">\n",
              "  <thead>\n",
              "    <tr style=\"text-align: right;\">\n",
              "      <th></th>\n",
              "      <th>id</th>\n",
              "      <th>Name</th>\n",
              "      <th>email</th>\n",
              "      <th>gender</th>\n",
              "      <th>age</th>\n",
              "      <th>Phone number</th>\n",
              "      <th>Visitor Type</th>\n",
              "      <th>Reserved Activities</th>\n",
              "      <th>Reservation Duration</th>\n",
              "      <th>Reservation Status</th>\n",
              "      <th>Feedback and Evaluation</th>\n",
              "      <th>Reservation Date</th>\n",
              "    </tr>\n",
              "  </thead>\n",
              "  <tbody>\n",
              "    <tr>\n",
              "      <th>0</th>\n",
              "      <td>1</td>\n",
              "      <td>Glen Camelli</td>\n",
              "      <td>gcamelli0@archive.org</td>\n",
              "      <td>male</td>\n",
              "      <td>17</td>\n",
              "      <td>150-115-0317</td>\n",
              "      <td>New Visitor</td>\n",
              "      <td>Coworking Space</td>\n",
              "      <td>5</td>\n",
              "      <td>Confirmed</td>\n",
              "      <td>6</td>\n",
              "      <td>4/4/2023</td>\n",
              "    </tr>\n",
              "    <tr>\n",
              "      <th>1</th>\n",
              "      <td>2</td>\n",
              "      <td>Saunder Thirtle</td>\n",
              "      <td>sthirtle1@hatena.ne.jp</td>\n",
              "      <td>female</td>\n",
              "      <td>26</td>\n",
              "      <td>288-483-2108</td>\n",
              "      <td>New Visitor</td>\n",
              "      <td>Coworking Space</td>\n",
              "      <td>7</td>\n",
              "      <td>Pending</td>\n",
              "      <td>7</td>\n",
              "      <td>5/17/2023</td>\n",
              "    </tr>\n",
              "    <tr>\n",
              "      <th>2</th>\n",
              "      <td>3</td>\n",
              "      <td>Therine Veque</td>\n",
              "      <td>tveque2@google.es</td>\n",
              "      <td>male</td>\n",
              "      <td>48</td>\n",
              "      <td>812-765-6319</td>\n",
              "      <td>Occasional Visitor</td>\n",
              "      <td>XR Studio</td>\n",
              "      <td>4</td>\n",
              "      <td>Canceled</td>\n",
              "      <td>2</td>\n",
              "      <td>1/5/2023</td>\n",
              "    </tr>\n",
              "    <tr>\n",
              "      <th>3</th>\n",
              "      <td>4</td>\n",
              "      <td>Kellen Bisco</td>\n",
              "      <td>kbisco3@webs.com</td>\n",
              "      <td>male</td>\n",
              "      <td>30</td>\n",
              "      <td>749-995-3064</td>\n",
              "      <td>Occasional Visitor</td>\n",
              "      <td>Podcast Space</td>\n",
              "      <td>1</td>\n",
              "      <td>Canceled</td>\n",
              "      <td>10</td>\n",
              "      <td>7/16/2023</td>\n",
              "    </tr>\n",
              "    <tr>\n",
              "      <th>4</th>\n",
              "      <td>5</td>\n",
              "      <td>Johny Arunowicz</td>\n",
              "      <td>jarunowicz4@scribd.com</td>\n",
              "      <td>female</td>\n",
              "      <td>30</td>\n",
              "      <td>814-801-4578</td>\n",
              "      <td>New Visitor</td>\n",
              "      <td>Design Lab</td>\n",
              "      <td>6</td>\n",
              "      <td>Pending</td>\n",
              "      <td>2</td>\n",
              "      <td>6/26/2023</td>\n",
              "    </tr>\n",
              "  </tbody>\n",
              "</table>\n",
              "</div>\n",
              "    <div class=\"colab-df-buttons\">\n",
              "\n",
              "  <div class=\"colab-df-container\">\n",
              "    <button class=\"colab-df-convert\" onclick=\"convertToInteractive('df-803f3cdf-f654-486b-927e-df889eac0517')\"\n",
              "            title=\"Convert this dataframe to an interactive table.\"\n",
              "            style=\"display:none;\">\n",
              "\n",
              "  <svg xmlns=\"http://www.w3.org/2000/svg\" height=\"24px\" viewBox=\"0 -960 960 960\">\n",
              "    <path d=\"M120-120v-720h720v720H120Zm60-500h600v-160H180v160Zm220 220h160v-160H400v160Zm0 220h160v-160H400v160ZM180-400h160v-160H180v160Zm440 0h160v-160H620v160ZM180-180h160v-160H180v160Zm440 0h160v-160H620v160Z\"/>\n",
              "  </svg>\n",
              "    </button>\n",
              "\n",
              "  <style>\n",
              "    .colab-df-container {\n",
              "      display:flex;\n",
              "      gap: 12px;\n",
              "    }\n",
              "\n",
              "    .colab-df-convert {\n",
              "      background-color: #E8F0FE;\n",
              "      border: none;\n",
              "      border-radius: 50%;\n",
              "      cursor: pointer;\n",
              "      display: none;\n",
              "      fill: #1967D2;\n",
              "      height: 32px;\n",
              "      padding: 0 0 0 0;\n",
              "      width: 32px;\n",
              "    }\n",
              "\n",
              "    .colab-df-convert:hover {\n",
              "      background-color: #E2EBFA;\n",
              "      box-shadow: 0px 1px 2px rgba(60, 64, 67, 0.3), 0px 1px 3px 1px rgba(60, 64, 67, 0.15);\n",
              "      fill: #174EA6;\n",
              "    }\n",
              "\n",
              "    .colab-df-buttons div {\n",
              "      margin-bottom: 4px;\n",
              "    }\n",
              "\n",
              "    [theme=dark] .colab-df-convert {\n",
              "      background-color: #3B4455;\n",
              "      fill: #D2E3FC;\n",
              "    }\n",
              "\n",
              "    [theme=dark] .colab-df-convert:hover {\n",
              "      background-color: #434B5C;\n",
              "      box-shadow: 0px 1px 3px 1px rgba(0, 0, 0, 0.15);\n",
              "      filter: drop-shadow(0px 1px 2px rgba(0, 0, 0, 0.3));\n",
              "      fill: #FFFFFF;\n",
              "    }\n",
              "  </style>\n",
              "\n",
              "    <script>\n",
              "      const buttonEl =\n",
              "        document.querySelector('#df-803f3cdf-f654-486b-927e-df889eac0517 button.colab-df-convert');\n",
              "      buttonEl.style.display =\n",
              "        google.colab.kernel.accessAllowed ? 'block' : 'none';\n",
              "\n",
              "      async function convertToInteractive(key) {\n",
              "        const element = document.querySelector('#df-803f3cdf-f654-486b-927e-df889eac0517');\n",
              "        const dataTable =\n",
              "          await google.colab.kernel.invokeFunction('convertToInteractive',\n",
              "                                                    [key], {});\n",
              "        if (!dataTable) return;\n",
              "\n",
              "        const docLinkHtml = 'Like what you see? Visit the ' +\n",
              "          '<a target=\"_blank\" href=https://colab.research.google.com/notebooks/data_table.ipynb>data table notebook</a>'\n",
              "          + ' to learn more about interactive tables.';\n",
              "        element.innerHTML = '';\n",
              "        dataTable['output_type'] = 'display_data';\n",
              "        await google.colab.output.renderOutput(dataTable, element);\n",
              "        const docLink = document.createElement('div');\n",
              "        docLink.innerHTML = docLinkHtml;\n",
              "        element.appendChild(docLink);\n",
              "      }\n",
              "    </script>\n",
              "  </div>\n",
              "\n",
              "\n",
              "<div id=\"df-01c9506e-3604-4d91-b2b8-5aca3705532d\">\n",
              "  <button class=\"colab-df-quickchart\" onclick=\"quickchart('df-01c9506e-3604-4d91-b2b8-5aca3705532d')\"\n",
              "            title=\"Suggest charts\"\n",
              "            style=\"display:none;\">\n",
              "\n",
              "<svg xmlns=\"http://www.w3.org/2000/svg\" height=\"24px\"viewBox=\"0 0 24 24\"\n",
              "     width=\"24px\">\n",
              "    <g>\n",
              "        <path d=\"M19 3H5c-1.1 0-2 .9-2 2v14c0 1.1.9 2 2 2h14c1.1 0 2-.9 2-2V5c0-1.1-.9-2-2-2zM9 17H7v-7h2v7zm4 0h-2V7h2v10zm4 0h-2v-4h2v4z\"/>\n",
              "    </g>\n",
              "</svg>\n",
              "  </button>\n",
              "\n",
              "<style>\n",
              "  .colab-df-quickchart {\n",
              "      --bg-color: #E8F0FE;\n",
              "      --fill-color: #1967D2;\n",
              "      --hover-bg-color: #E2EBFA;\n",
              "      --hover-fill-color: #174EA6;\n",
              "      --disabled-fill-color: #AAA;\n",
              "      --disabled-bg-color: #DDD;\n",
              "  }\n",
              "\n",
              "  [theme=dark] .colab-df-quickchart {\n",
              "      --bg-color: #3B4455;\n",
              "      --fill-color: #D2E3FC;\n",
              "      --hover-bg-color: #434B5C;\n",
              "      --hover-fill-color: #FFFFFF;\n",
              "      --disabled-bg-color: #3B4455;\n",
              "      --disabled-fill-color: #666;\n",
              "  }\n",
              "\n",
              "  .colab-df-quickchart {\n",
              "    background-color: var(--bg-color);\n",
              "    border: none;\n",
              "    border-radius: 50%;\n",
              "    cursor: pointer;\n",
              "    display: none;\n",
              "    fill: var(--fill-color);\n",
              "    height: 32px;\n",
              "    padding: 0;\n",
              "    width: 32px;\n",
              "  }\n",
              "\n",
              "  .colab-df-quickchart:hover {\n",
              "    background-color: var(--hover-bg-color);\n",
              "    box-shadow: 0 1px 2px rgba(60, 64, 67, 0.3), 0 1px 3px 1px rgba(60, 64, 67, 0.15);\n",
              "    fill: var(--button-hover-fill-color);\n",
              "  }\n",
              "\n",
              "  .colab-df-quickchart-complete:disabled,\n",
              "  .colab-df-quickchart-complete:disabled:hover {\n",
              "    background-color: var(--disabled-bg-color);\n",
              "    fill: var(--disabled-fill-color);\n",
              "    box-shadow: none;\n",
              "  }\n",
              "\n",
              "  .colab-df-spinner {\n",
              "    border: 2px solid var(--fill-color);\n",
              "    border-color: transparent;\n",
              "    border-bottom-color: var(--fill-color);\n",
              "    animation:\n",
              "      spin 1s steps(1) infinite;\n",
              "  }\n",
              "\n",
              "  @keyframes spin {\n",
              "    0% {\n",
              "      border-color: transparent;\n",
              "      border-bottom-color: var(--fill-color);\n",
              "      border-left-color: var(--fill-color);\n",
              "    }\n",
              "    20% {\n",
              "      border-color: transparent;\n",
              "      border-left-color: var(--fill-color);\n",
              "      border-top-color: var(--fill-color);\n",
              "    }\n",
              "    30% {\n",
              "      border-color: transparent;\n",
              "      border-left-color: var(--fill-color);\n",
              "      border-top-color: var(--fill-color);\n",
              "      border-right-color: var(--fill-color);\n",
              "    }\n",
              "    40% {\n",
              "      border-color: transparent;\n",
              "      border-right-color: var(--fill-color);\n",
              "      border-top-color: var(--fill-color);\n",
              "    }\n",
              "    60% {\n",
              "      border-color: transparent;\n",
              "      border-right-color: var(--fill-color);\n",
              "    }\n",
              "    80% {\n",
              "      border-color: transparent;\n",
              "      border-right-color: var(--fill-color);\n",
              "      border-bottom-color: var(--fill-color);\n",
              "    }\n",
              "    90% {\n",
              "      border-color: transparent;\n",
              "      border-bottom-color: var(--fill-color);\n",
              "    }\n",
              "  }\n",
              "</style>\n",
              "\n",
              "  <script>\n",
              "    async function quickchart(key) {\n",
              "      const quickchartButtonEl =\n",
              "        document.querySelector('#' + key + ' button');\n",
              "      quickchartButtonEl.disabled = true;  // To prevent multiple clicks.\n",
              "      quickchartButtonEl.classList.add('colab-df-spinner');\n",
              "      try {\n",
              "        const charts = await google.colab.kernel.invokeFunction(\n",
              "            'suggestCharts', [key], {});\n",
              "      } catch (error) {\n",
              "        console.error('Error during call to suggestCharts:', error);\n",
              "      }\n",
              "      quickchartButtonEl.classList.remove('colab-df-spinner');\n",
              "      quickchartButtonEl.classList.add('colab-df-quickchart-complete');\n",
              "    }\n",
              "    (() => {\n",
              "      let quickchartButtonEl =\n",
              "        document.querySelector('#df-01c9506e-3604-4d91-b2b8-5aca3705532d button');\n",
              "      quickchartButtonEl.style.display =\n",
              "        google.colab.kernel.accessAllowed ? 'block' : 'none';\n",
              "    })();\n",
              "  </script>\n",
              "</div>\n",
              "    </div>\n",
              "  </div>\n"
            ]
          },
          "metadata": {},
          "execution_count": 4
        }
      ]
    },
    {
      "cell_type": "code",
      "source": [
        "customer_data.shape"
      ],
      "metadata": {
        "colab": {
          "base_uri": "https://localhost:8080/"
        },
        "id": "_sf8_Q3AAAui",
        "outputId": "9b4e9fb3-0aa8-4414-ab7e-0e80127a6243"
      },
      "execution_count": null,
      "outputs": [
        {
          "output_type": "execute_result",
          "data": {
            "text/plain": [
              "(1000, 12)"
            ]
          },
          "metadata": {},
          "execution_count": 7
        }
      ]
    },
    {
      "cell_type": "code",
      "source": [
        "# getting some informations about the dataset\n",
        "customer_data.info()"
      ],
      "metadata": {
        "colab": {
          "base_uri": "https://localhost:8080/"
        },
        "id": "E3xEB65iAj7H",
        "outputId": "c0bb552f-3576-4818-9864-5ba11af6170b"
      },
      "execution_count": null,
      "outputs": [
        {
          "output_type": "stream",
          "name": "stdout",
          "text": [
            "<class 'pandas.core.frame.DataFrame'>\n",
            "RangeIndex: 1000 entries, 0 to 999\n",
            "Data columns (total 12 columns):\n",
            " #   Column                   Non-Null Count  Dtype \n",
            "---  ------                   --------------  ----- \n",
            " 0   id                       1000 non-null   int64 \n",
            " 1   Name                     1000 non-null   object\n",
            " 2   email                    1000 non-null   object\n",
            " 3   gender                   1000 non-null   object\n",
            " 4   age                      1000 non-null   int64 \n",
            " 5   Phone number             1000 non-null   object\n",
            " 6   Visitor Type             1000 non-null   object\n",
            " 7   Reserved Activities      1000 non-null   object\n",
            " 8   Reservation Duration     1000 non-null   int64 \n",
            " 9   Reservation Status       1000 non-null   object\n",
            " 10  Feedback and Evaluation  1000 non-null   int64 \n",
            " 11  Reservation Date         1000 non-null   object\n",
            "dtypes: int64(4), object(8)\n",
            "memory usage: 93.9+ KB\n"
          ]
        }
      ]
    },
    {
      "cell_type": "code",
      "source": [
        "# checking for missing values\n",
        "customer_data.isnull().sum()"
      ],
      "metadata": {
        "colab": {
          "base_uri": "https://localhost:8080/"
        },
        "id": "MQW9UqhuA2rb",
        "outputId": "c270ffff-98d6-473a-c5ab-3cf5942620df"
      },
      "execution_count": null,
      "outputs": [
        {
          "output_type": "execute_result",
          "data": {
            "text/plain": [
              "id                         0\n",
              "Name                       0\n",
              "email                      0\n",
              "gender                     0\n",
              "age                        0\n",
              "Phone number               0\n",
              "Visitor Type               0\n",
              "Reserved Activities        0\n",
              "Reservation Duration       0\n",
              "Reservation Status         0\n",
              "Feedback and Evaluation    0\n",
              "Reservation Date           0\n",
              "dtype: int64"
            ]
          },
          "metadata": {},
          "execution_count": 9
        }
      ]
    },
    {
      "cell_type": "code",
      "source": [
        "X = customer_data.iloc[:,[4,7]].values"
      ],
      "metadata": {
        "id": "Hy8Q2I17A5MV"
      },
      "execution_count": null,
      "outputs": []
    },
    {
      "cell_type": "code",
      "source": [
        "print(X)"
      ],
      "metadata": {
        "colab": {
          "base_uri": "https://localhost:8080/"
        },
        "id": "NdB5dWIKHyev",
        "outputId": "32ff1645-3970-4016-910c-210df843baca"
      },
      "execution_count": null,
      "outputs": [
        {
          "output_type": "stream",
          "name": "stdout",
          "text": [
            "[[17 'Coworking Space']\n",
            " [26 'Coworking Space']\n",
            " [48 'XR Studio']\n",
            " ...\n",
            " [41 'Coworking Space']\n",
            " [19 'Calligraphy Design Club']\n",
            " [49 'Coworking Space']]\n"
          ]
        }
      ]
    },
    {
      "cell_type": "code",
      "source": [
        "category_mapping = {\n",
        "    'Calligraphy Design Club': 1,\n",
        "    'Podcast Space': 2,\n",
        "    'Coworking Space': 3,\n",
        "    'AI Art Club': 4,\n",
        "    'Design Lab': 5,\n",
        "    'XR Studio': 6,\n",
        "    'Resource Center': 7,\n",
        "    'Pitch Zone': 8\n",
        "}\n",
        "\n"
      ],
      "metadata": {
        "id": "zzylsJZHXkWy"
      },
      "execution_count": null,
      "outputs": []
    },
    {
      "cell_type": "code",
      "source": [
        "# Convert the second column to numerical values\n",
        "for row in X:\n",
        "    row[1] = category_mapping.get(row[1], None)"
      ],
      "metadata": {
        "id": "D0AUOfq3XuIQ"
      },
      "execution_count": null,
      "outputs": []
    },
    {
      "cell_type": "code",
      "source": [
        "print(X)"
      ],
      "metadata": {
        "colab": {
          "base_uri": "https://localhost:8080/"
        },
        "id": "53XwRXlpewl8",
        "outputId": "bb88a78c-3378-41e9-f370-bf573c45b4b4"
      },
      "execution_count": null,
      "outputs": [
        {
          "output_type": "stream",
          "name": "stdout",
          "text": [
            "[[17 3]\n",
            " [26 3]\n",
            " [48 6]\n",
            " ...\n",
            " [41 3]\n",
            " [19 1]\n",
            " [49 3]]\n"
          ]
        }
      ]
    },
    {
      "cell_type": "code",
      "source": [
        "# finding wcss value for different number of clusters\n",
        "\n",
        "wcss = []\n",
        "\n",
        "for i in range(1,11):\n",
        "  kmeans = KMeans(n_clusters=i, init='k-means++', random_state=42)\n",
        "  kmeans.fit(X)\n",
        "\n",
        "  wcss.append(kmeans.inertia_)"
      ],
      "metadata": {
        "colab": {
          "base_uri": "https://localhost:8080/"
        },
        "id": "yeX7WUrnIySD",
        "outputId": "4464f126-ad1f-4355-f299-a3074382a1fe"
      },
      "execution_count": null,
      "outputs": [
        {
          "output_type": "stream",
          "name": "stderr",
          "text": [
            "/usr/local/lib/python3.10/dist-packages/sklearn/cluster/_kmeans.py:870: FutureWarning: The default value of `n_init` will change from 10 to 'auto' in 1.4. Set the value of `n_init` explicitly to suppress the warning\n",
            "  warnings.warn(\n",
            "/usr/local/lib/python3.10/dist-packages/sklearn/cluster/_kmeans.py:870: FutureWarning: The default value of `n_init` will change from 10 to 'auto' in 1.4. Set the value of `n_init` explicitly to suppress the warning\n",
            "  warnings.warn(\n",
            "/usr/local/lib/python3.10/dist-packages/sklearn/cluster/_kmeans.py:870: FutureWarning: The default value of `n_init` will change from 10 to 'auto' in 1.4. Set the value of `n_init` explicitly to suppress the warning\n",
            "  warnings.warn(\n",
            "/usr/local/lib/python3.10/dist-packages/sklearn/cluster/_kmeans.py:870: FutureWarning: The default value of `n_init` will change from 10 to 'auto' in 1.4. Set the value of `n_init` explicitly to suppress the warning\n",
            "  warnings.warn(\n",
            "/usr/local/lib/python3.10/dist-packages/sklearn/cluster/_kmeans.py:870: FutureWarning: The default value of `n_init` will change from 10 to 'auto' in 1.4. Set the value of `n_init` explicitly to suppress the warning\n",
            "  warnings.warn(\n",
            "/usr/local/lib/python3.10/dist-packages/sklearn/cluster/_kmeans.py:870: FutureWarning: The default value of `n_init` will change from 10 to 'auto' in 1.4. Set the value of `n_init` explicitly to suppress the warning\n",
            "  warnings.warn(\n",
            "/usr/local/lib/python3.10/dist-packages/sklearn/cluster/_kmeans.py:870: FutureWarning: The default value of `n_init` will change from 10 to 'auto' in 1.4. Set the value of `n_init` explicitly to suppress the warning\n",
            "  warnings.warn(\n",
            "/usr/local/lib/python3.10/dist-packages/sklearn/cluster/_kmeans.py:870: FutureWarning: The default value of `n_init` will change from 10 to 'auto' in 1.4. Set the value of `n_init` explicitly to suppress the warning\n",
            "  warnings.warn(\n",
            "/usr/local/lib/python3.10/dist-packages/sklearn/cluster/_kmeans.py:870: FutureWarning: The default value of `n_init` will change from 10 to 'auto' in 1.4. Set the value of `n_init` explicitly to suppress the warning\n",
            "  warnings.warn(\n",
            "/usr/local/lib/python3.10/dist-packages/sklearn/cluster/_kmeans.py:870: FutureWarning: The default value of `n_init` will change from 10 to 'auto' in 1.4. Set the value of `n_init` explicitly to suppress the warning\n",
            "  warnings.warn(\n"
          ]
        }
      ]
    },
    {
      "cell_type": "code",
      "source": [
        "# plot an elbow graph\n",
        "\n",
        "sns.set()\n",
        "plt.plot(range(1,11), wcss)\n",
        "plt.title('The Elbow Point Graph')\n",
        "plt.xlabel('Number of Clusters')\n",
        "plt.ylabel('WCSS')\n",
        "plt.show()"
      ],
      "metadata": {
        "colab": {
          "base_uri": "https://localhost:8080/",
          "height": 480
        },
        "id": "EMw02bFTK2Kd",
        "outputId": "5b0aa27b-c32e-4693-8dc8-4a5de72ce994"
      },
      "execution_count": null,
      "outputs": [
        {
          "output_type": "display_data",
          "data": {
            "text/plain": [
              "<Figure size 640x480 with 1 Axes>"
            ],
            "image/png": "[encoded data removed]"
          },
          "metadata": {}
        }
      ]
    },
    {
      "cell_type": "code",
      "source": [
        "kmeans = KMeans(n_clusters=3, init='k-means++', random_state=0)\n",
        "\n",
        "# return a label for each data point based on their cluster\n",
        "Y = kmeans.fit_predict(X)\n",
        "\n",
        "print(Y)"
      ],
      "metadata": {
        "colab": {
          "base_uri": "https://localhost:8080/"
        },
        "id": "aUlB-zKXYEuj",
        "outputId": "3a33a7c8-f6b6-4f48-acbc-440000c5e07f"
      },
      "execution_count": null,
      "outputs": [
        {
          "output_type": "stream",
          "name": "stdout",
          "text": [
            "[1 1 2 0 0 0 0 0 2 2 2 1 1 2 1 0 1 1 0 0 1 0 1 2 0 1 0 2 2 2 1 1 0 0 1 0 0\n",
            " 0 2 1 1 2 2 2 0 2 1 2 0 1 0 1 2 0 0 0 0 1 0 1 0 2 1 2 2 1 2 0 0 2 0 1 1 1\n",
            " 2 0 0 1 0 2 1 2 2 2 2 2 0 1 2 0 1 2 0 0 1 2 1 0 1 0 0 2 2 0 1 2 1 0 1 1 2\n",
            " 2 0 1 2 0 1 0 0 0 2 1 0 1 2 1 0 2 0 2 0 2 2 2 1 2 1 2 0 0 1 0 0 0 0 2 1 2\n",
            " 0 1 1 0 2 1 0 1 0 2 1 2 1 0 1 1 2 1 2 0 2 0 2 1 2 0 0 1 0 0 2 2 2 1 2 2 2\n",
            " 2 0 2 2 2 0 0 1 1 0 0 0 1 0 2 2 0 0 1 2 1 0 2 1 2 1 2 0 1 1 1 2 1 0 0 1 0\n",
            " 0 2 0 2 0 1 0 1 2 2 0 1 2 0 1 2 2 1 0 1 0 1 2 1 1 1 0 2 1 2 1 0 2 2 0 2 1\n",
            " 0 1 1 1 1 0 0 0 2 0 0 0 1 1 2 0 2 0 0 1 2 1 0 0 2 0 2 1 2 2 2 0 0 0 0 0 1\n",
            " 0 1 2 1 2 2 0 1 2 0 2 0 0 1 2 0 0 0 1 2 2 0 1 2 0 0 2 0 0 0 2 2 2 2 0 2 2\n",
            " 2 1 0 2 0 1 1 1 0 1 1 0 1 1 0 1 1 2 0 2 2 2 2 2 2 0 0 1 0 1 1 1 0 1 2 2 2\n",
            " 0 1 1 1 2 0 2 2 2 2 2 1 1 1 0 0 0 0 2 1 2 0 2 2 1 2 2 0 2 2 2 1 0 2 1 2 0\n",
            " 2 2 1 2 0 0 0 2 1 0 0 2 0 1 1 2 2 2 2 2 0 2 0 2 1 1 0 0 0 1 2 2 1 2 1 1 2\n",
            " 0 0 1 2 2 1 1 0 0 2 0 1 2 0 2 2 0 2 2 1 1 0 2 1 2 0 1 1 1 1 0 1 2 1 2 2 0\n",
            " 2 2 0 2 2 0 1 1 2 2 1 2 2 1 0 0 1 2 0 1 0 1 1 1 0 2 0 1 1 2 1 2 0 2 2 0 2\n",
            " 2 2 0 2 0 2 2 2 0 1 0 1 0 1 2 0 0 1 0 1 0 2 1 2 0 1 2 0 1 0 2 1 2 1 2 1 2\n",
            " 1 0 1 0 2 2 2 1 0 2 2 0 1 2 0 2 0 0 0 2 1 0 1 2 0 2 1 0 1 0 2 2 2 2 1 1 0\n",
            " 1 0 1 1 1 0 2 2 0 2 2 2 2 0 2 2 0 1 2 1 1 0 1 0 1 2 2 2 2 1 1 1 0 0 0 2 0\n",
            " 0 1 1 0 0 0 1 1 0 1 2 2 0 0 2 0 2 0 1 0 0 1 0 1 2 0 2 2 0 1 2 0 1 2 1 0 1\n",
            " 1 2 1 1 1 0 1 0 0 2 1 1 0 0 0 1 1 0 0 2 2 2 2 0 1 0 2 2 0 0 0 2 0 1 0 1 1\n",
            " 0 1 2 0 0 1 1 2 0 0 2 0 2 2 2 1 0 2 1 1 1 1 0 1 0 1 0 2 1 2 2 2 2 2 2 2 2\n",
            " 2 2 2 0 0 2 2 0 2 2 0 1 1 1 0 0 2 2 1 0 1 2 1 0 1 2 2 1 1 0 2 2 2 0 1 0 0\n",
            " 0 0 2 2 1 1 0 2 0 1 2 2 2 2 2 2 0 0 1 2 2 2 1 2 1 1 1 1 1 1 0 1 2 2 2 1 2\n",
            " 0 2 0 1 2 0 0 2 0 1 2 1 2 0 2 2 2 1 0 1 2 1 2 1 2 1 1 1 2 2 1 1 2 1 0 2 0\n",
            " 0 0 2 2 0 0 0 0 0 1 0 1 0 0 2 1 0 2 2 1 0 1 0 0 0 0 0 2 2 1 1 2 2 2 2 0 1\n",
            " 2 0 1 1 0 2 2 0 2 1 2 2 0 2 1 2 1 2 2 0 1 1 0 0 0 2 0 0 2 2 2 0 1 0 1 2 2\n",
            " 1 2 1 0 0 0 0 2 2 1 0 1 0 0 0 2 2 0 0 0 2 1 1 2 2 2 0 0 0 0 0 2 1 2 2 2 2\n",
            " 2 1 0 0 0 0 0 0 0 0 1 0 1 0 0 2 0 1 0 1 0 0 0 0 2 2 2 2 2 1 0 1 2 1 0 0 1\n",
            " 2]\n"
          ]
        },
        {
          "output_type": "stream",
          "name": "stderr",
          "text": [
            "/usr/local/lib/python3.10/dist-packages/sklearn/cluster/_kmeans.py:870: FutureWarning: The default value of `n_init` will change from 10 to 'auto' in 1.4. Set the value of `n_init` explicitly to suppress the warning\n",
            "  warnings.warn(\n"
          ]
        }
      ]
    },
    {
      "cell_type": "code",
      "source": [
        "# plotting all the clusters and their Centroids\n",
        "\n",
        "plt.figure(figsize=(8,8))\n",
        "plt.scatter(X[Y==0,0], X[Y==0,1], s=50, c='green', label='Cluster 1')\n",
        "plt.scatter(X[Y==1,0], X[Y==1,1], s=50, c='red', label='Cluster 2')\n",
        "plt.scatter(X[Y==2,0], X[Y==2,1], s=50, c='yellow', label='Cluster 3')\n",
        "\n",
        "\n",
        "# plot the centroids\n",
        "plt.scatter(kmeans.cluster_centers_[:,0], kmeans.cluster_centers_[:,1], s=100, c='cyan', label='Centroids')\n",
        "\n",
        "plt.title('Customer Groups')\n",
        "plt.xlabel('Age')\n",
        "plt.ylabel('Reserved Activities')\n",
        "plt.show()"
      ],
      "metadata": {
        "colab": {
          "base_uri": "https://localhost:8080/",
          "height": 727
        },
        "id": "ocCZAENVYO5c",
        "outputId": "e80fe0a3-4f5c-4c49-98c1-aad4c86245a6"
      },
      "execution_count": null,
      "outputs": [
        {
          "output_type": "display_data",
          "data": {
            "text/plain": [
              "<Figure size 800x800 with 1 Axes>"
            ],
            "image/png": "[encoded data removed]"
          },
          "metadata": {}
        }
      ]
    }
  ]
}